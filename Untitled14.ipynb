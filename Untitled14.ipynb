{
 "cells": [
  {
   "cell_type": "code",
   "execution_count": null,
   "id": "990706ee-1916-41ef-9f66-124b6db809f6",
   "metadata": {},
   "outputs": [],
   "source": [
    "class Tier:\n",
    "    def __init__(self, name, art):\n",
    "        self.name = name\n",
    "        self.art = art\n",
    "#Die Tier-Klasse dient als Basisklasse und definiert grundlegende Attribute und Methoden für alle Tier\n",
    "    def __str__(self):\n",
    "        return f\"{self.name} ({self.art})\"\n",
    "\n",
    "    def mache_geraeusch(self):\n",
    "        return \"Unbekanntes Geräusch\"\n"
   ]
  },
  {
   "cell_type": "code",
   "execution_count": null,
   "id": "f0703fe2-c716-4963-8f3f-af211c6e79e0",
   "metadata": {},
   "outputs": [],
   "source": [
    "from .tier import Tier\n",
    "\n",
    "class Saeugetier(Tier):\n",
    "    def __init__(self, name, art, fell_farbe):\n",
    "        super().__init__(name, art)\n",
    "        self.fell_farbe = fell_farbe\n",
    "#Die Saeugetier-Klasse erbt von Tier und fügt spezifische Attribute und Methoden für Säugetiere hinzu\n",
    "    def __str__(self):\n",
    "        return f\"{super().__str__()} mit {self.fell_farbe}em Fell\"\n",
    "\n",
    "    def saeugen(self):\n",
    "        return f\"{self.name} säugt seine Jungen\"\n"
   ]
  },
  {
   "cell_type": "code",
   "execution_count": null,
   "id": "547951bf-679f-42f0-8f6a-6489de6a59ca",
   "metadata": {},
   "outputs": [],
   "source": [
    "import json\n",
    "from .tier import Tier\n",
    "from .saeugetier import Saeugetier\n",
    "\n",
    "class Inventar:\n",
    "    def __init__(self):\n",
    "        self.tiere = []\n",
    "# Die # Inventar-Klasse verwaltet eine Liste von Tieren und implementiert Methoden zum Hinzufügen von Tieren \n",
    "# sowie zum Speichern und Laden des Inventars als JSON\n",
    "    def fuege_tier_hinzu(self, tier):\n",
    "        if isinstance(tier, Tier):\n",
    "            self.tiere.append(tier)\n",
    "        else:\n",
    "            raise TypeError(\"Nur Tiere können hinzugefügt werden\")\n",
    "\n",
    "    def speichere_json(self, dateiname):\n",
    "        with open(dateiname, 'w') as f:\n",
    "            json.dump([{'name': t.name, 'art': t.art, 'typ': t.__class__.__name__} for t in self.tiere], f)\n",
    "#Die speichere_json und lade_json Methoden demonstrieren die Serialisierung und Deserialisierung der Daten\n",
    "    def lade_json(self, dateiname):\n",
    "        with open(dateiname, 'r') as f:\n",
    "            daten = json.load(f)\n",
    "            self.tiere = []\n",
    "            for t in daten:\n",
    "                if t['typ'] == 'Saeugetier':\n",
    "                    self.tiere.append(Saeugetier(t['name'], t['art'], 'unbekannt'))\n",
    "                else:\n",
    "                    self.tiere.append(Tier(t['name'], t['art']))\n",
    "\n",
    "    def __str__(self):\n",
    "        return \"\\n\".join(str(tier) for tier in self.tiere)\n",
    "# püberprüfungen und Fehlerbehandlung sind implementiert, um die Datenintegrität zu gewährleisten"
   ]
  },
  {
   "cell_type": "code",
   "execution_count": null,
   "id": "e9338505-cb4a-403a-bfa0-6e9e417f59dc",
   "metadata": {},
   "outputs": [],
   "source": []
  }
 ],
 "metadata": {
  "kernelspec": {
   "display_name": "Python [conda env:base] *",
   "language": "python",
   "name": "conda-base-py"
  },
  "language_info": {
   "codemirror_mode": {
    "name": "ipython",
    "version": 3
   },
   "file_extension": ".py",
   "mimetype": "text/x-python",
   "name": "python",
   "nbconvert_exporter": "python",
   "pygments_lexer": "ipython3",
   "version": "3.12.7"
  }
 },
 "nbformat": 4,
 "nbformat_minor": 5
}
